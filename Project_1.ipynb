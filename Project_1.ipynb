{
 "cells": [
  {
   "cell_type": "code",
   "execution_count": 1,
   "metadata": {},
   "outputs": [],
   "source": [
    "import numpy as np\n",
    "import matplotlib.pyplot as plt\n",
    "import pandas as pd\n",
    "import json\n"
   ]
  },
  {
   "cell_type": "code",
   "execution_count": 4,
   "metadata": {},
   "outputs": [],
   "source": [
    "train_data = pd.read_csv('C:\\\\Users\\\\roshn\\\\Documents\\\\DataAnalytics\\\\Springboard\\\\data-science-bowl-2019\\\\train.csv')\n"
   ]
  },
  {
   "cell_type": "code",
   "execution_count": 5,
   "metadata": {},
   "outputs": [],
   "source": [
    "train_labels = pd.read_csv('C:\\\\Users\\\\roshn\\\\Documents\\\\DataAnalytics\\\\Springboard\\\\data-science-bowl-2019\\\\train_labels.csv')\n",
    "specs = pd.read_csv('C:\\\\Users\\\\roshn\\\\Documents\\\\DataAnalytics\\\\Springboard\\\\data-science-bowl-2019\\\\specs.csv')\n",
    "test_data = pd.read_csv('C:\\\\Users\\\\roshn\\\\Documents\\\\DataAnalytics\\\\Springboard\\\\data-science-bowl-2019\\\\test.csv')\n"
   ]
  },
  {
   "cell_type": "code",
   "execution_count": 6,
   "metadata": {},
   "outputs": [
    {
     "name": "stdout",
     "output_type": "stream",
     "text": [
      "Train set has 11341042 rows and 11 columns\n",
      "Test set has 1156414 rows and 11 columns\n",
      "Train_labels has 17690 rows and 7 columns\n",
      "Specs set has 386 rows and 3 columns\n"
     ]
    }
   ],
   "source": [
    "print(\"Train set has {} rows and {} columns\".format(train_data.shape[0],train_data.shape[1]))\n",
    "print(\"Test set has {} rows and {} columns\".format(test_data.shape[0],test_data.shape[1]))\n",
    "print(\"Train_labels has {} rows and {} columns\".format(train_labels.shape[0],train_labels.shape[1]))\n",
    "print(\"Specs set has {} rows and {} columns\".format(specs.shape[0],specs.shape[1]))"
   ]
  },
  {
   "cell_type": "code",
   "execution_count": 7,
   "metadata": {},
   "outputs": [],
   "source": [
    "train_event_data = train_data[(train_data.event_code==4100) | (train_data.event_code==4110)]"
   ]
  },
  {
   "cell_type": "markdown",
   "metadata": {},
   "source": [
    "## Finding out all unique values of the categorical parameters:"
   ]
  },
  {
   "cell_type": "code",
   "execution_count": 8,
   "metadata": {},
   "outputs": [
    {
     "data": {
      "text/plain": [
       "Index(['event_id', 'game_session', 'timestamp', 'event_data',\n",
       "       'installation_id', 'event_count', 'event_code', 'game_time', 'title',\n",
       "       'type', 'world'],\n",
       "      dtype='object')"
      ]
     },
     "execution_count": 8,
     "metadata": {},
     "output_type": "execute_result"
    }
   ],
   "source": [
    "train_data.columns"
   ]
  },
  {
   "cell_type": "code",
   "execution_count": 11,
   "metadata": {},
   "outputs": [],
   "source": [
    "all_event_codes = list(set(train_data.event_code.unique()).union(set(test_data.event_code.unique())))"
   ]
  },
  {
   "cell_type": "code",
   "execution_count": 13,
   "metadata": {},
   "outputs": [],
   "source": [
    "all_titles = list(set(train_data.title.unique()).union(set(test_data.title.unique())))"
   ]
  },
  {
   "cell_type": "code",
   "execution_count": 14,
   "metadata": {},
   "outputs": [],
   "source": [
    "all_types = list(set(train_data.type.unique()).union(set(test_data.type.unique())))"
   ]
  },
  {
   "cell_type": "code",
   "execution_count": 15,
   "metadata": {},
   "outputs": [],
   "source": [
    "all_worlds = list(set(train_data.world.unique()).union(set(test_data.world.unique())))"
   ]
  },
  {
   "cell_type": "markdown",
   "metadata": {},
   "source": [
    "## Calculating accuracy group"
   ]
  },
  {
   "cell_type": "code",
   "execution_count": 34,
   "metadata": {},
   "outputs": [],
   "source": [
    "assess_data = train_data[train_data.type=='Assessment']"
   ]
  },
  {
   "cell_type": "code",
   "execution_count": 41,
   "metadata": {},
   "outputs": [],
   "source": [
    "assess_data = assess_data[(assess_data.event_code==4100)|(assess_data.event_code==4110)]"
   ]
  },
  {
   "cell_type": "code",
   "execution_count": 68,
   "metadata": {},
   "outputs": [],
   "source": [
    "assess_data['correct']= pd.DataFrame.from_dict(dict((assess_data.event_data).apply(json.loads))).loc['correct']"
   ]
  },
  {
   "cell_type": "code",
   "execution_count": 69,
   "metadata": {},
   "outputs": [
    {
     "data": {
      "text/html": [
       "<div>\n",
       "<style scoped>\n",
       "    .dataframe tbody tr th:only-of-type {\n",
       "        vertical-align: middle;\n",
       "    }\n",
       "\n",
       "    .dataframe tbody tr th {\n",
       "        vertical-align: top;\n",
       "    }\n",
       "\n",
       "    .dataframe thead th {\n",
       "        text-align: right;\n",
       "    }\n",
       "</style>\n",
       "<table border=\"1\" class=\"dataframe\">\n",
       "  <thead>\n",
       "    <tr style=\"text-align: right;\">\n",
       "      <th></th>\n",
       "      <th>event_id</th>\n",
       "      <th>game_session</th>\n",
       "      <th>timestamp</th>\n",
       "      <th>event_data</th>\n",
       "      <th>installation_id</th>\n",
       "      <th>event_count</th>\n",
       "      <th>event_code</th>\n",
       "      <th>game_time</th>\n",
       "      <th>title</th>\n",
       "      <th>type</th>\n",
       "      <th>world</th>\n",
       "      <th>correct</th>\n",
       "    </tr>\n",
       "  </thead>\n",
       "  <tbody>\n",
       "    <tr>\n",
       "      <th>2228</th>\n",
       "      <td>25fa8af4</td>\n",
       "      <td>901acc108f55a5a1</td>\n",
       "      <td>2019-08-06T05:22:32.357Z</td>\n",
       "      <td>{\"correct\":true,\"stumps\":[1,2,4],\"event_count\"...</td>\n",
       "      <td>0006a69f</td>\n",
       "      <td>44</td>\n",
       "      <td>4100</td>\n",
       "      <td>31011</td>\n",
       "      <td>Mushroom Sorter (Assessment)</td>\n",
       "      <td>Assessment</td>\n",
       "      <td>TREETOPCITY</td>\n",
       "      <td>True</td>\n",
       "    </tr>\n",
       "    <tr>\n",
       "      <th>2709</th>\n",
       "      <td>17113b36</td>\n",
       "      <td>77b8ee947eb84b4e</td>\n",
       "      <td>2019-08-06T05:35:54.898Z</td>\n",
       "      <td>{\"correct\":false,\"caterpillars\":[11,8,3],\"even...</td>\n",
       "      <td>0006a69f</td>\n",
       "      <td>29</td>\n",
       "      <td>4110</td>\n",
       "      <td>35771</td>\n",
       "      <td>Bird Measurer (Assessment)</td>\n",
       "      <td>Assessment</td>\n",
       "      <td>TREETOPCITY</td>\n",
       "      <td>False</td>\n",
       "    </tr>\n",
       "    <tr>\n",
       "      <th>2715</th>\n",
       "      <td>17113b36</td>\n",
       "      <td>77b8ee947eb84b4e</td>\n",
       "      <td>2019-08-06T05:36:01.927Z</td>\n",
       "      <td>{\"correct\":false,\"caterpillars\":[11,8,11],\"eve...</td>\n",
       "      <td>0006a69f</td>\n",
       "      <td>35</td>\n",
       "      <td>4110</td>\n",
       "      <td>42805</td>\n",
       "      <td>Bird Measurer (Assessment)</td>\n",
       "      <td>Assessment</td>\n",
       "      <td>TREETOPCITY</td>\n",
       "      <td>False</td>\n",
       "    </tr>\n",
       "    <tr>\n",
       "      <th>2720</th>\n",
       "      <td>17113b36</td>\n",
       "      <td>77b8ee947eb84b4e</td>\n",
       "      <td>2019-08-06T05:36:06.512Z</td>\n",
       "      <td>{\"correct\":false,\"caterpillars\":[11,8,5],\"even...</td>\n",
       "      <td>0006a69f</td>\n",
       "      <td>40</td>\n",
       "      <td>4110</td>\n",
       "      <td>47388</td>\n",
       "      <td>Bird Measurer (Assessment)</td>\n",
       "      <td>Assessment</td>\n",
       "      <td>TREETOPCITY</td>\n",
       "      <td>False</td>\n",
       "    </tr>\n",
       "    <tr>\n",
       "      <th>2725</th>\n",
       "      <td>17113b36</td>\n",
       "      <td>77b8ee947eb84b4e</td>\n",
       "      <td>2019-08-06T05:36:09.739Z</td>\n",
       "      <td>{\"correct\":false,\"caterpillars\":[11,8,7],\"even...</td>\n",
       "      <td>0006a69f</td>\n",
       "      <td>45</td>\n",
       "      <td>4110</td>\n",
       "      <td>50605</td>\n",
       "      <td>Bird Measurer (Assessment)</td>\n",
       "      <td>Assessment</td>\n",
       "      <td>TREETOPCITY</td>\n",
       "      <td>False</td>\n",
       "    </tr>\n",
       "  </tbody>\n",
       "</table>\n",
       "</div>"
      ],
      "text/plain": [
       "      event_id      game_session                 timestamp  \\\n",
       "2228  25fa8af4  901acc108f55a5a1  2019-08-06T05:22:32.357Z   \n",
       "2709  17113b36  77b8ee947eb84b4e  2019-08-06T05:35:54.898Z   \n",
       "2715  17113b36  77b8ee947eb84b4e  2019-08-06T05:36:01.927Z   \n",
       "2720  17113b36  77b8ee947eb84b4e  2019-08-06T05:36:06.512Z   \n",
       "2725  17113b36  77b8ee947eb84b4e  2019-08-06T05:36:09.739Z   \n",
       "\n",
       "                                             event_data installation_id  \\\n",
       "2228  {\"correct\":true,\"stumps\":[1,2,4],\"event_count\"...        0006a69f   \n",
       "2709  {\"correct\":false,\"caterpillars\":[11,8,3],\"even...        0006a69f   \n",
       "2715  {\"correct\":false,\"caterpillars\":[11,8,11],\"eve...        0006a69f   \n",
       "2720  {\"correct\":false,\"caterpillars\":[11,8,5],\"even...        0006a69f   \n",
       "2725  {\"correct\":false,\"caterpillars\":[11,8,7],\"even...        0006a69f   \n",
       "\n",
       "      event_count  event_code  game_time                         title  \\\n",
       "2228           44        4100      31011  Mushroom Sorter (Assessment)   \n",
       "2709           29        4110      35771    Bird Measurer (Assessment)   \n",
       "2715           35        4110      42805    Bird Measurer (Assessment)   \n",
       "2720           40        4110      47388    Bird Measurer (Assessment)   \n",
       "2725           45        4110      50605    Bird Measurer (Assessment)   \n",
       "\n",
       "            type        world correct  \n",
       "2228  Assessment  TREETOPCITY    True  \n",
       "2709  Assessment  TREETOPCITY   False  \n",
       "2715  Assessment  TREETOPCITY   False  \n",
       "2720  Assessment  TREETOPCITY   False  \n",
       "2725  Assessment  TREETOPCITY   False  "
      ]
     },
     "execution_count": 69,
     "metadata": {},
     "output_type": "execute_result"
    }
   ],
   "source": [
    "assess_data.head()"
   ]
  },
  {
   "cell_type": "markdown",
   "metadata": {},
   "source": [
    "#### Now for each event, we know whether the assessment was a success or not. To calculate the accuracy now, we need the total count of correct and incorrect responses. \n"
   ]
  },
  {
   "cell_type": "code",
   "execution_count": 76,
   "metadata": {},
   "outputs": [],
   "source": [
    "event_unique  = assess_data.event_id.unique()"
   ]
  },
  {
   "cell_type": "code",
   "execution_count": 75,
   "metadata": {},
   "outputs": [
    {
     "data": {
      "text/plain": [
       "array(['Mushroom Sorter (Assessment)', 'Bird Measurer (Assessment)',\n",
       "       'Cauldron Filler (Assessment)', 'Cart Balancer (Assessment)',\n",
       "       'Chest Sorter (Assessment)'], dtype=object)"
      ]
     },
     "execution_count": 75,
     "metadata": {},
     "output_type": "execute_result"
    }
   ],
   "source": [
    "assess_data.title.unique()"
   ]
  },
  {
   "cell_type": "code",
   "execution_count": 78,
   "metadata": {},
   "outputs": [
    {
     "name": "stdout",
     "output_type": "stream",
     "text": [
      "25fa8af4 ['Mushroom Sorter (Assessment)']\n",
      "17113b36 ['Bird Measurer (Assessment)']\n",
      "070a5291 ['Bird Measurer (Assessment)']\n",
      "392e14df ['Cauldron Filler (Assessment)']\n",
      "d122731b ['Cart Balancer (Assessment)']\n",
      "93b353f2 ['Chest Sorter (Assessment)']\n"
     ]
    }
   ],
   "source": [
    "for i in event_unique:\n",
    "    print(i,assess_data[assess_data.event_id == i].title.unique())"
   ]
  },
  {
   "cell_type": "markdown",
   "metadata": {},
   "source": [
    "##### So we know that each of the asssessments can be identified by a unique event_id, except for Bird Measurer that has 2. "
   ]
  },
  {
   "cell_type": "markdown",
   "metadata": {},
   "source": [
    "##### The next question here is whether to consider one game_session per assessment as an accuracy counter or should all game_sessions per assessment be used for any given user ?"
   ]
  },
  {
   "cell_type": "markdown",
   "metadata": {},
   "source": []
  }
 ],
 "metadata": {
  "kernelspec": {
   "display_name": "Python 3",
   "language": "python",
   "name": "python3"
  },
  "language_info": {
   "codemirror_mode": {
    "name": "ipython",
    "version": 3
   },
   "file_extension": ".py",
   "mimetype": "text/x-python",
   "name": "python",
   "nbconvert_exporter": "python",
   "pygments_lexer": "ipython3",
   "version": "3.7.1"
  }
 },
 "nbformat": 4,
 "nbformat_minor": 2
}
